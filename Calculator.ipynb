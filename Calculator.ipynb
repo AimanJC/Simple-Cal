{
  "nbformat": 4,
  "nbformat_minor": 0,
  "metadata": {
    "colab": {
      "provenance": [],
      "authorship_tag": "ABX9TyPYI70IpCdVNuLJ7zvUE5x4",
      "include_colab_link": true
    },
    "kernelspec": {
      "name": "python3",
      "display_name": "Python 3"
    },
    "language_info": {
      "name": "python"
    }
  },
  "cells": [
    {
      "cell_type": "markdown",
      "metadata": {
        "id": "view-in-github",
        "colab_type": "text"
      },
      "source": [
        "<a href=\"https://colab.research.google.com/github/AimanJC/Simple-Cal/blob/main/Calculator.ipynb\" target=\"_parent\"><img src=\"https://colab.research.google.com/assets/colab-badge.svg\" alt=\"Open In Colab\"/></a>"
      ]
    },
    {
      "cell_type": "code",
      "execution_count": null,
      "metadata": {
        "id": "0gBTM7c7dmBV"
      },
      "outputs": [],
      "source": [
        "import streamlit as st\n",
        "\n",
        "# Define calculator functions\n",
        "def add(x, y):\n",
        "    return x + y\n",
        "\n",
        "def subtract(x, y):\n",
        "    return x - y\n",
        "\n",
        "def multiply(x, y):\n",
        "    return x * y\n",
        "\n",
        "def divide(x, y):\n",
        "    if y == 0:\n",
        "        return \"Error! Division by zero.\"\n",
        "    else:\n",
        "        return x / y\n",
        "\n",
        "# Streamlit app title\n",
        "st.title(\"Simple Calculator\")\n",
        "\n",
        "# Operation selection\n",
        "operation = st.selectbox(\"Select an operation:\", (\"Add\", \"Subtract\", \"Multiply\", \"Divide\"))\n",
        "\n",
        "# Number inputs\n",
        "num1 = st.number_input(\"Enter the first number:\", format=\"%f\")\n",
        "num2 = st.number_input(\"Enter the second number:\", format=\"%f\")\n",
        "\n",
        "# Calculate result\n",
        "if st.button(\"Calculate\"):\n",
        "    if operation == \"Add\":\n",
        "        result = add(num1, num2)\n",
        "        st.write(f\"Result: {num1} + {num2} = {result}\")\n",
        "    elif operation == \"Subtract\":\n",
        "        result = subtract(num1, num2)\n",
        "        st.write(f\"Result: {num1} - {num2} = {result}\")\n",
        "    elif operation == \"Multiply\":\n",
        "        result = multiply(num1, num2)\n",
        "        st.write(f\"Result: {num1} * {num2} = {result}\")\n",
        "    elif operation == \"Divide\":\n",
        "        result = divide(num1, num2)\n",
        "        st.write(f\"Result: {num1} / {num2} = {result}\")\n"
      ]
    }
  ]
}